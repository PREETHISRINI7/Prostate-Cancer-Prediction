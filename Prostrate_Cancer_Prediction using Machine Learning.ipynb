{
 "cells": [
  {
   "cell_type": "code",
   "execution_count": null,
   "id": "d141b36a",
   "metadata": {},
   "outputs": [],
   "source": [
    "import pandas as pd\n",
    "import matplotlib.pyplot as plt\n",
    "import seaborn as sns\n",
    "import numpy as np\n",
    "\n",
    "import warnings \n",
    "warnings.filterwarnings('ignore')\n",
    "\n",
    "from sklearn.linear_model import LogisticRegression\n",
    "from sklearn.preprocessing import LabelEncoder\n",
    "from sklearn.model_selection import train_test_split\n",
    "from sklearn.preprocessing import StandardScaler\n",
    "from sklearn.metrics import accuracy_score, confusion_matrix, classification_report"
   ]
  },
  {
   "cell_type": "code",
   "execution_count": null,
   "id": "2994ef8b",
   "metadata": {},
   "outputs": [],
   "source": [
    "dfa = pd.read_csv(\"training_data.csv\")"
   ]
  },
  {
   "cell_type": "code",
   "execution_count": null,
   "id": "a8452942",
   "metadata": {},
   "outputs": [],
   "source": [
    "dfa.shape"
   ]
  },
  {
   "cell_type": "code",
   "execution_count": null,
   "id": "691016d6",
   "metadata": {},
   "outputs": [],
   "source": [
    "dfa.head()"
   ]
  },
  {
   "cell_type": "code",
   "execution_count": null,
   "id": "58d0c3da",
   "metadata": {},
   "outputs": [],
   "source": [
    "dfa.tail()"
   ]
  },
  {
   "cell_type": "code",
   "execution_count": null,
   "id": "38121e36",
   "metadata": {},
   "outputs": [],
   "source": [
    "dfa.shape"
   ]
  },
  {
   "cell_type": "code",
   "execution_count": null,
   "id": "45f1c75c",
   "metadata": {},
   "outputs": [],
   "source": [
    "dfa.info()"
   ]
  },
  {
   "cell_type": "code",
   "execution_count": null,
   "id": "5d1d4226",
   "metadata": {},
   "outputs": [],
   "source": [
    "dfa.isnull().sum()"
   ]
  },
  {
   "cell_type": "code",
   "execution_count": null,
   "id": "5bae52ca",
   "metadata": {},
   "outputs": [],
   "source": [
    "dfa1 = [\"diagnosis_date\",\"gleason_score\",\"age\",\"height\",\"weight\",\"tumor_diagnosis\",\"tumor_6_months\",\n",
    "      \"tumor_1_year\",\"psa_diagnosis\",\"psa_6_months\",\"psa_1_year\",\"t_score\",\n",
    "      \"n_score\",\"m_score\",\"stage\",\"race\",\"first_degree_history\",\"previous_cancer\",\"side\",\n",
    "      \"rd_thrpy\",\"h_thrpy\",\"chm_thrpy\",\"cry_thrpy\",\"brch_thrpy\",\"rad_rem\",\"multi_thrpy\",\"survival_1_year\",\"survival_7_years\"]"
   ]
  },
  {
   "cell_type": "code",
   "execution_count": null,
   "id": "8d4ab816",
   "metadata": {},
   "outputs": [],
   "source": [
    "df = dfa[dfa1]"
   ]
  },
  {
   "cell_type": "code",
   "execution_count": null,
   "id": "6401ec6d",
   "metadata": {},
   "outputs": [],
   "source": [
    "df"
   ]
  },
  {
   "cell_type": "code",
   "execution_count": null,
   "id": "271e65b0",
   "metadata": {},
   "outputs": [],
   "source": [
    "df.shape"
   ]
  },
  {
   "cell_type": "code",
   "execution_count": null,
   "id": "b7dd37cb",
   "metadata": {},
   "outputs": [],
   "source": [
    "cat_cols = [\"t_score\",\"n_score\",\"m_score\",\"stage\",\"race\",\"first_degree_history\",\"previous_cancer\",\n",
    "            \"side\",\"rd_thrpy\",\"h_thrpy\",\"chm_thrpy\",\"cry_thrpy\",\"brch_thrpy\",\"rad_rem\",\"multi_thrpy\",\"survival_1_year\",\n",
    "            \"survival_7_years\"]\n",
    "#cat_cols = ~ df.isin(num_cols)\n",
    "num_cols = [\"gleason_score\",\"age\",\"height\",\"weight\",\"tumor_diagnosis\",\"tumor_6_months\",\n",
    "            \"tumor_1_year\",\"psa_diagnosis\",\"psa_6_months\",\"psa_1_year\"]"
   ]
  },
  {
   "cell_type": "code",
   "execution_count": null,
   "id": "83b80484",
   "metadata": {},
   "outputs": [],
   "source": [
    "cat_cols"
   ]
  },
  {
   "cell_type": "code",
   "execution_count": null,
   "id": "2aed9a66",
   "metadata": {},
   "outputs": [],
   "source": [
    "num_cols"
   ]
  },
  {
   "cell_type": "code",
   "execution_count": null,
   "id": "318a7dfc",
   "metadata": {},
   "outputs": [],
   "source": [
    "plt.figure(figsize =(10,6), dpi=200)\n",
    "sns.heatmap(df[num_cols].corr(),cmap =\"RdYlGn\", annot = True)"
   ]
  },
  {
   "cell_type": "code",
   "execution_count": null,
   "id": "c7731e2e",
   "metadata": {},
   "outputs": [],
   "source": [
    "sns.histplot(data = dfa, x = 'gleason_score', bins=20, kde=True, edgecolor='black')\n",
    "plt.show()"
   ]
  },
  {
   "cell_type": "code",
   "execution_count": null,
   "id": "654dbb5c",
   "metadata": {},
   "outputs": [],
   "source": [
    "sns.histplot(data=df, x = 'age', bins=20, kde=True, edgecolor='black')\n",
    "plt.show()"
   ]
  },
  {
   "cell_type": "code",
   "execution_count": null,
   "id": "3b866e61",
   "metadata": {},
   "outputs": [],
   "source": [
    "sns.histplot(data=df, x = 'height', bins=20, kde=True, edgecolor='black')\n",
    "plt.show()"
   ]
  },
  {
   "cell_type": "code",
   "execution_count": null,
   "id": "c2e13d96",
   "metadata": {},
   "outputs": [],
   "source": [
    "sns.histplot(data=df, x = 'weight', bins=20, kde=True, edgecolor='black')\n",
    "plt.show()"
   ]
  },
  {
   "cell_type": "code",
   "execution_count": null,
   "id": "3f3b7ca8",
   "metadata": {},
   "outputs": [],
   "source": [
    "sns.histplot(data=df, x = 'tumor_diagnosis', bins=20, kde=True, edgecolor='black')\n",
    "plt.show()"
   ]
  },
  {
   "cell_type": "code",
   "execution_count": null,
   "id": "3524c9ce",
   "metadata": {},
   "outputs": [],
   "source": [
    "sns.histplot(data=df, x = 'tumor_6_months', bins=20, kde=True, edgecolor='black')\n",
    "plt.show()"
   ]
  },
  {
   "cell_type": "code",
   "execution_count": null,
   "id": "67f95ea1",
   "metadata": {},
   "outputs": [],
   "source": [
    "sns.histplot(data=df, x = 'tumor_1_year', bins=20, kde=True, edgecolor='black')\n",
    "plt.show()"
   ]
  },
  {
   "cell_type": "code",
   "execution_count": null,
   "id": "9226ce7d",
   "metadata": {},
   "outputs": [],
   "source": [
    "sns.histplot(data=df, x = 'psa_diagnosis', bins=20, kde=True, edgecolor='black')\n",
    "plt.show()"
   ]
  },
  {
   "cell_type": "code",
   "execution_count": null,
   "id": "edde19c7",
   "metadata": {},
   "outputs": [],
   "source": [
    "sns.histplot(data=df, x = 'psa_6_months', bins=20, kde=True, edgecolor='black')\n",
    "plt.show()"
   ]
  },
  {
   "cell_type": "code",
   "execution_count": null,
   "id": "21a6346a",
   "metadata": {},
   "outputs": [],
   "source": [
    "sns.histplot(data=df, x = 'psa_1_year', bins=20, kde=True, edgecolor='black')\n",
    "plt.show()"
   ]
  },
  {
   "cell_type": "code",
   "execution_count": null,
   "id": "2e8790cf",
   "metadata": {},
   "outputs": [],
   "source": [
    "df[num_cols].describe()"
   ]
  },
  {
   "cell_type": "code",
   "execution_count": null,
   "id": "ef86449b",
   "metadata": {},
   "outputs": [],
   "source": [
    "from scipy.stats import chi2_contingency\n",
    "# Chi square test for the categorical variables\n",
    "\n",
    "def get_chi_sq(row, column, df):  \n",
    "\n",
    "    # plot the graph for the data passed\n",
    "    fig = plt.figure()\n",
    "    ax = fig.add_subplot(111)\n",
    "    sns.countplot(data=df, x=row, hue=column)  \n",
    "    plt.xlabel(row)\n",
    "    plt.ylabel('Count')\n",
    "    plt.show()\n",
    "    # doing this to keep from opening too many figs at once (eats memory)\n",
    "    plt.close(fig);\n",
    "      \n",
    "    # create cross-tabulation\n",
    "    xtab = pd.crosstab(df[row], df[column], margins = False)   \n",
    "    print('observed data:\\n', xtab)\n",
    "    \n",
    "    # Chi-square contingency table\n",
    "    chi2, p_value, dof, expected = chi2_contingency(xtab, correction = False)\n",
    "    print('expected data:\\n', expected)\n",
    "    print('chi-squared value: {:.4f} for {:.0f} dof; p-value = {:.4f}\\n'.format(chi2, dof, p_value))"
   ]
  },
  {
   "cell_type": "code",
   "execution_count": null,
   "id": "73876aa6",
   "metadata": {},
   "outputs": [],
   "source": [
    "# for every category column, doing the Chi-sq test\n",
    "for cat_var in cat_cols:\n",
    "  get_chi_sq(cat_var, 'survival_7_years', df) "
   ]
  },
  {
   "cell_type": "code",
   "execution_count": null,
   "id": "7f324db9",
   "metadata": {},
   "outputs": [],
   "source": [
    "df1 = [\"diagnosis_date\",\"gleason_score\",\"t_score\",\"n_score\",\"m_score\",\"stage\",\"age\",\"race\",\"height\",\"weight\",\"first_degree_history\"\n",
    "       ,\"previous_cancer\",\"tumor_diagnosis\",\"tumor_1_year\",\"psa_diagnosis\",\"psa_1_year\"\n",
    "       ,\"rd_thrpy\",\"h_thrpy\",\"chm_thrpy\",\"cry_thrpy\",\"brch_thrpy\",\"rad_rem\",\"multi_thrpy\",\"survival_1_year\",\"survival_7_years\"]"
   ]
  },
  {
   "cell_type": "code",
   "execution_count": null,
   "id": "0aebdb95",
   "metadata": {},
   "outputs": [],
   "source": [
    "dff = df[df1]"
   ]
  },
  {
   "cell_type": "code",
   "execution_count": null,
   "id": "cc2a15ec",
   "metadata": {},
   "outputs": [],
   "source": [
    "df[df1].shape"
   ]
  },
  {
   "cell_type": "code",
   "execution_count": null,
   "id": "8fe5602f",
   "metadata": {},
   "outputs": [],
   "source": [
    "dummies1 = pd.get_dummies(dff.t_score)\n",
    "dummies1"
   ]
  },
  {
   "cell_type": "code",
   "execution_count": null,
   "id": "8fcbe734",
   "metadata": {},
   "outputs": [],
   "source": [
    "dummies2 = pd.get_dummies(dff.n_score)\n",
    "dummies2"
   ]
  },
  {
   "cell_type": "code",
   "execution_count": null,
   "id": "a5c84974",
   "metadata": {},
   "outputs": [],
   "source": [
    "dummies3 = pd.get_dummies(dff.m_score)\n",
    "dummies3"
   ]
  },
  {
   "cell_type": "code",
   "execution_count": null,
   "id": "b81b8e43",
   "metadata": {},
   "outputs": [],
   "source": [
    "dummies4 = pd.get_dummies(dff.stage)\n",
    "dummies4"
   ]
  },
  {
   "cell_type": "code",
   "execution_count": null,
   "id": "b79e3be5",
   "metadata": {},
   "outputs": [],
   "source": [
    "dummies5 = pd.get_dummies(dff.race, prefix = \"race\")\n",
    "dummies5"
   ]
  },
  {
   "cell_type": "code",
   "execution_count": null,
   "id": "87440574",
   "metadata": {},
   "outputs": [],
   "source": [
    "dummies6 = pd.get_dummies(dff.first_degree_history, prefix = \"famhis\")\n",
    "dummies6"
   ]
  },
  {
   "cell_type": "code",
   "execution_count": null,
   "id": "e74ce328",
   "metadata": {},
   "outputs": [],
   "source": [
    "con_cat = pd.concat([dff, dummies1,dummies2,dummies3,dummies4,dummies5,dummies6], axis =1)\n",
    "con_cat"
   ]
  },
  {
   "cell_type": "code",
   "execution_count": null,
   "id": "39b2952b",
   "metadata": {},
   "outputs": [],
   "source": [
    "con_cat.shape"
   ]
  },
  {
   "cell_type": "code",
   "execution_count": null,
   "id": "50d5aef7",
   "metadata": {},
   "outputs": [],
   "source": [
    "final = con_cat.drop(columns=[\"t_score\",\"n_score\",\"m_score\",\"stage\",\"race\",\"first_degree_history\"])\n",
    "final"
   ]
  },
  {
   "cell_type": "code",
   "execution_count": null,
   "id": "1b0bf1a9",
   "metadata": {},
   "outputs": [],
   "source": [
    "Dummies_cols = [\"T1a\",\"T1b\",\"T1c\",\"T2a\",\"T2b\",\"T2c\",\"T3a\",\"T3b\",\"T3c\",\"T4\",\"N0\",\"N1\",\"NX\",\"M0\",\"M1a\",\"M1b\",\"M1c\",\n",
    "                \"I\",\"IIA\",\"IIB\",\"III\",\"IV\",\"race_1.0\",\"race_2.0\",\"race_3.0\",\"race_4.0\",\n",
    "                \"famhis_0.0\",\"famhis_1.0\",\"famhis_2.0\",\"famhis_3.0\",\"famhis_4.0\"]"
   ]
  },
  {
   "cell_type": "code",
   "execution_count": null,
   "id": "18a8f71a",
   "metadata": {},
   "outputs": [],
   "source": [
    "from scipy.stats import chi2_contingency\n",
    "# Chi square test for the categorical variables\n",
    "\n",
    "def get_chi_sq(row, column, final):  \n",
    "\n",
    "    # plot the graph for the data passed\n",
    "    fig = plt.figure()\n",
    "    ax = fig.add_subplot(111)\n",
    "    sns.countplot(data=final, x=row, hue=column)  \n",
    "    plt.xlabel(row)\n",
    "    plt.ylabel('Count')\n",
    "    plt.show()\n",
    "    # doing this to keep from opening too many figs at once (eats memory)\n",
    "    plt.close(fig);\n",
    "      \n",
    "    # create cross-tabulation\n",
    "    xtab = pd.crosstab(final[row], final[column], margins = False)   \n",
    "    print('observed data:\\n', xtab)\n",
    "    \n",
    "    # Chi-square contingency table\n",
    "    chi2, p_value, dof, expected = chi2_contingency(xtab, correction = False)\n",
    "    print('expected data:\\n', expected)\n",
    "    print('chi-squared value: {:.4f} for {:.0f} dof; p-value = {:.4f}\\n'.format(chi2, dof, p_value))"
   ]
  },
  {
   "cell_type": "code",
   "execution_count": null,
   "id": "ca5b36ae",
   "metadata": {},
   "outputs": [],
   "source": [
    "# for every category column, doing the Chi-sq test\n",
    "for var in Dummies_cols:\n",
    "  get_chi_sq(var, 'survival_7_years', final)"
   ]
  },
  {
   "cell_type": "code",
   "execution_count": null,
   "id": "99ee4e73",
   "metadata": {},
   "outputs": [],
   "source": [
    "final1 = final.drop(columns=[\"NX\"])\n",
    "final1"
   ]
  },
  {
   "cell_type": "code",
   "execution_count": null,
   "id": "4f117baa",
   "metadata": {},
   "outputs": [],
   "source": [
    "final2 = final1.drop(columns=[\"famhis_2.0\",\"famhis_3.0\",\"famhis_4.0\",\"race_2.0\",\"race_3.0\",\"race_4.0\"])\n",
    "final2"
   ]
  },
  {
   "cell_type": "code",
   "execution_count": null,
   "id": "3f1cc37b",
   "metadata": {},
   "outputs": [],
   "source": [
    "final2['bmi'] = final2[\"weight\"] / final2[\"height\"] ** 2\n",
    "final2"
   ]
  },
  {
   "cell_type": "code",
   "execution_count": null,
   "id": "ac025f82",
   "metadata": {},
   "outputs": [],
   "source": [
    "final2.diagnosis_date.dtype"
   ]
  },
  {
   "cell_type": "code",
   "execution_count": null,
   "id": "b0a34ee7",
   "metadata": {},
   "outputs": [],
   "source": [
    "final2[['month', 'year']] = final2['diagnosis_date'].str.split('-', 1, expand=True)"
   ]
  },
  {
   "cell_type": "code",
   "execution_count": null,
   "id": "f041eb92",
   "metadata": {},
   "outputs": [],
   "source": [
    "final2"
   ]
  },
  {
   "cell_type": "code",
   "execution_count": null,
   "id": "5e981120",
   "metadata": {},
   "outputs": [],
   "source": [
    "final3 = final2.drop(columns=[\"height\",\"weight\",\"diagnosis_date\"])\n",
    "final3"
   ]
  },
  {
   "cell_type": "code",
   "execution_count": null,
   "id": "12500acf",
   "metadata": {},
   "outputs": [],
   "source": [
    "final3.isnull().sum()"
   ]
  },
  {
   "cell_type": "code",
   "execution_count": null,
   "id": "a17deff9",
   "metadata": {},
   "outputs": [],
   "source": [
    "final3.dropna()"
   ]
  },
  {
   "cell_type": "code",
   "execution_count": null,
   "id": "91a190f0",
   "metadata": {},
   "outputs": [],
   "source": [
    "final3[\"month\"].unique()"
   ]
  },
  {
   "cell_type": "code",
   "execution_count": null,
   "id": "1baad532",
   "metadata": {},
   "outputs": [],
   "source": [
    "final3.isna().sum()"
   ]
  },
  {
   "cell_type": "code",
   "execution_count": null,
   "id": "479f056f",
   "metadata": {},
   "outputs": [],
   "source": [
    "final3.replace([np.inf, -np.inf], np.nan, inplace=True)\n",
    "#Drop rows with NaN\n",
    "final3.dropna(inplace=True)"
   ]
  },
  {
   "cell_type": "code",
   "execution_count": null,
   "id": "fdab6c23",
   "metadata": {},
   "outputs": [],
   "source": [
    "final3.isnull().sum()"
   ]
  },
  {
   "cell_type": "code",
   "execution_count": null,
   "id": "7e88bd55",
   "metadata": {},
   "outputs": [],
   "source": [
    "final3['month'].replace(['Jan','Feb','Mar','Apr','May','Jun','Jul','Aug','Sep','Oct','Nov','Dec'],\n",
    "                        [1,2,3,4,5,6,7,8,9,10,11,12], inplace=True)"
   ]
  },
  {
   "cell_type": "code",
   "execution_count": null,
   "id": "cb9722bd",
   "metadata": {},
   "outputs": [],
   "source": [
    "final3"
   ]
  },
  {
   "cell_type": "code",
   "execution_count": null,
   "id": "cd53c393",
   "metadata": {},
   "outputs": [],
   "source": [
    "X_train = final3.drop('survival_7_years',axis = 1)\n",
    "y_train = final3['survival_7_years']"
   ]
  },
  {
   "cell_type": "code",
   "execution_count": null,
   "id": "6fbd1a01",
   "metadata": {},
   "outputs": [],
   "source": [
    "X_train.shape"
   ]
  },
  {
   "cell_type": "code",
   "execution_count": null,
   "id": "ca4929ed",
   "metadata": {},
   "outputs": [],
   "source": [
    "final3.columns"
   ]
  },
  {
   "cell_type": "code",
   "execution_count": null,
   "id": "87a61bb9",
   "metadata": {},
   "outputs": [],
   "source": [
    "sc = StandardScaler()\n",
    "X_train = sc.fit_transform(X_train)\n",
    "#X_test = sc.transform(X_test)"
   ]
  },
  {
   "cell_type": "code",
   "execution_count": null,
   "id": "7f6899e0",
   "metadata": {},
   "outputs": [],
   "source": [
    "lr = LogisticRegression()\n",
    "lr.fit(X_train, y_train)"
   ]
  },
  {
   "cell_type": "code",
   "execution_count": null,
   "id": "c153e1da",
   "metadata": {},
   "outputs": [],
   "source": [
    "lr_acc = accuracy_score(y_train, lr.predict(X_train))\n",
    "print(f\"Accuracy Score is {lr_acc}\")"
   ]
  },
  {
   "cell_type": "code",
   "execution_count": null,
   "id": "569a3504",
   "metadata": {},
   "outputs": [],
   "source": [
    "Test = pd.read_csv(\"(name)_score.csv\")"
   ]
  },
  {
   "cell_type": "code",
   "execution_count": null,
   "id": "c465bfd9",
   "metadata": {},
   "outputs": [],
   "source": [
    "Test.shape"
   ]
  },
  {
   "cell_type": "code",
   "execution_count": null,
   "id": "7564daf0",
   "metadata": {},
   "outputs": [],
   "source": [
    "T1 = [\"diagnosis_date\",\"gleason_score\",\"t_score\",\"n_score\",\"m_score\",\"stage\",\"age\",\"race\",\"height\",\"weight\",\"first_degree_history\"\n",
    "       ,\"previous_cancer\",\"tumor_diagnosis\",\"tumor_1_year\",\"psa_diagnosis\",\"psa_1_year\"\n",
    "       ,\"rd_thrpy\",\"h_thrpy\",\"chm_thrpy\",\"cry_thrpy\",\"brch_thrpy\",\"rad_rem\",\"multi_thrpy\",\"survival_1_year\",\"survival_7_years\"]"
   ]
  },
  {
   "cell_type": "code",
   "execution_count": null,
   "id": "ad48f5c1",
   "metadata": {},
   "outputs": [],
   "source": [
    "Test1 = Test[T1]"
   ]
  },
  {
   "cell_type": "code",
   "execution_count": null,
   "id": "9222768b",
   "metadata": {},
   "outputs": [],
   "source": [
    "Test1"
   ]
  },
  {
   "cell_type": "code",
   "execution_count": null,
   "id": "927cc44d",
   "metadata": {},
   "outputs": [],
   "source": [
    "dummy1 = pd.get_dummies(Test1.t_score)\n",
    "dummy1"
   ]
  },
  {
   "cell_type": "code",
   "execution_count": null,
   "id": "7a9dde4f",
   "metadata": {},
   "outputs": [],
   "source": [
    "dummy2 = pd.get_dummies(Test1.n_score)\n",
    "dummy2"
   ]
  },
  {
   "cell_type": "code",
   "execution_count": null,
   "id": "83e61f43",
   "metadata": {},
   "outputs": [],
   "source": [
    "dummy3 = pd.get_dummies(Test1.m_score)\n",
    "dummy3"
   ]
  },
  {
   "cell_type": "code",
   "execution_count": null,
   "id": "41cabfc2",
   "metadata": {},
   "outputs": [],
   "source": [
    "dummy4 = pd.get_dummies(Test1.stage)\n",
    "dummy4"
   ]
  },
  {
   "cell_type": "code",
   "execution_count": null,
   "id": "1fe0d85b",
   "metadata": {},
   "outputs": [],
   "source": [
    "dummy5 = pd.get_dummies(Test1.race, prefix = \"race\")\n",
    "dummy5"
   ]
  },
  {
   "cell_type": "code",
   "execution_count": null,
   "id": "2cf6c407",
   "metadata": {},
   "outputs": [],
   "source": [
    "dummy6 = pd.get_dummies(Test1.first_degree_history, prefix = \"famhis\")\n",
    "dummy6"
   ]
  },
  {
   "cell_type": "code",
   "execution_count": null,
   "id": "0b7933aa",
   "metadata": {},
   "outputs": [],
   "source": [
    "con_cat1 = pd.concat([Test1, dummy1,dummy2,dummy3,dummy4,dummy5,dummy6], axis =1)\n",
    "con_cat1"
   ]
  },
  {
   "cell_type": "code",
   "execution_count": null,
   "id": "cc78d661",
   "metadata": {},
   "outputs": [],
   "source": [
    "finTest = con_cat1.drop(columns=[\"t_score\",\"n_score\",\"m_score\",\"stage\",\"race\",\"first_degree_history\"])\n",
    "finTest"
   ]
  },
  {
   "cell_type": "code",
   "execution_count": null,
   "id": "5d1be1d7",
   "metadata": {},
   "outputs": [],
   "source": [
    "finTest1 = finTest.drop(columns=[\"NX\",\"famhis_2.0\",\"famhis_3.0\",\"famhis_4.0\",\"famhis_5.0\",\"race_2.0\",\"race_3.0\",\"race_4.0\"])\n",
    "finTest1"
   ]
  },
  {
   "cell_type": "code",
   "execution_count": null,
   "id": "b64c377e",
   "metadata": {},
   "outputs": [],
   "source": [
    "finTest1['bmi'] = finTest1[\"weight\"] / finTest1[\"height\"] ** 2\n",
    "finTest1"
   ]
  },
  {
   "cell_type": "code",
   "execution_count": null,
   "id": "4390ae81",
   "metadata": {},
   "outputs": [],
   "source": [
    "finTest1[['month', 'year']] = finTest1['diagnosis_date'].str.split('-', 1, expand=True)\n",
    "finTest1"
   ]
  },
  {
   "cell_type": "code",
   "execution_count": null,
   "id": "e4d18d0b",
   "metadata": {},
   "outputs": [],
   "source": [
    "finTest1 = finTest1.drop(columns=[\"height\",\"weight\",\"diagnosis_date\"])\n",
    "finTest1"
   ]
  },
  {
   "cell_type": "code",
   "execution_count": null,
   "id": "550ae4c3",
   "metadata": {},
   "outputs": [],
   "source": [
    "finTest1['month'].replace(['Jan','Feb','Mar','Apr','May','Jun','Jul','Aug','Sep','Oct','Nov','Dec'],\n",
    "                        [1,2,3,4,5,6,7,8,9,10,11,12], inplace=True)\n",
    "finTest1"
   ]
  },
  {
   "cell_type": "code",
   "execution_count": null,
   "id": "8d3159c2",
   "metadata": {},
   "outputs": [],
   "source": [
    "X_test1 = finTest1.drop('survival_7_years',axis = 1)\n",
    "y_test1 = finTest1['survival_7_years']"
   ]
  },
  {
   "cell_type": "code",
   "execution_count": null,
   "id": "2e93b105",
   "metadata": {},
   "outputs": [],
   "source": [
    "X_test1.isnull().sum()"
   ]
  },
  {
   "cell_type": "code",
   "execution_count": null,
   "id": "cce270b4",
   "metadata": {},
   "outputs": [],
   "source": [
    "X_test1.shape"
   ]
  },
  {
   "cell_type": "code",
   "execution_count": null,
   "id": "a6a2f553",
   "metadata": {},
   "outputs": [],
   "source": [
    "X_Test = X_test1.dropna()\n",
    "X_Test"
   ]
  },
  {
   "cell_type": "code",
   "execution_count": null,
   "id": "9c03f706",
   "metadata": {},
   "outputs": [],
   "source": [
    "X_Test.isnull().sum()"
   ]
  },
  {
   "cell_type": "code",
   "execution_count": null,
   "id": "b682debd",
   "metadata": {},
   "outputs": [],
   "source": [
    "final3.columns"
   ]
  },
  {
   "cell_type": "code",
   "execution_count": null,
   "id": "f50a5c40",
   "metadata": {},
   "outputs": [],
   "source": [
    "sc = StandardScaler()\n",
    "#X_train = sc.fit_transform(X_train)\n",
    "X_Test = sc.fit_transform(X_Test)"
   ]
  },
  {
   "cell_type": "code",
   "execution_count": null,
   "id": "bee478d6",
   "metadata": {},
   "outputs": [],
   "source": [
    "y_test1 = lr.predict(X_Test)"
   ]
  },
  {
   "cell_type": "code",
   "execution_count": null,
   "id": "4d2ba388",
   "metadata": {},
   "outputs": [],
   "source": [
    "y_pred = pd.DataFrame(y_test1)\n",
    "y_pred"
   ]
  },
  {
   "cell_type": "code",
   "execution_count": null,
   "id": "33c9056a",
   "metadata": {},
   "outputs": [],
   "source": [
    "a = lr.coef_"
   ]
  },
  {
   "cell_type": "code",
   "execution_count": null,
   "id": "27c7511f",
   "metadata": {},
   "outputs": [],
   "source": [
    "lr.intercept_"
   ]
  },
  {
   "cell_type": "code",
   "execution_count": null,
   "id": "88e3692d",
   "metadata": {},
   "outputs": [],
   "source": [
    "# get importance\n",
    "importance = a.coef_[0]\n",
    "# summarize feature importance\n",
    "for i,v in enumerate(importance):\n",
    " print('Feature: %0d, Score: %.5f' % (i,v))\n",
    "# plot feature importance\n",
    "pyplot.bar([x for x in range(len(importance))], importance)\n",
    "pyplot.show()"
   ]
  },
  {
   "cell_type": "code",
   "execution_count": null,
   "id": "457f8072",
   "metadata": {},
   "outputs": [],
   "source": []
  }
 ],
 "metadata": {
  "kernelspec": {
   "display_name": "Python 3 (ipykernel)",
   "language": "python",
   "name": "python3"
  },
  "language_info": {
   "codemirror_mode": {
    "name": "ipython",
    "version": 3
   },
   "file_extension": ".py",
   "mimetype": "text/x-python",
   "name": "python",
   "nbconvert_exporter": "python",
   "pygments_lexer": "ipython3",
   "version": "3.9.7"
  }
 },
 "nbformat": 4,
 "nbformat_minor": 5
}
